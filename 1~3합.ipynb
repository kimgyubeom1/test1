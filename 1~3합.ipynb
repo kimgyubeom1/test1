{
  "nbformat": 4,
  "nbformat_minor": 0,
  "metadata": {
    "colab": {
      "name": "Untitled3.ipynb",
      "provenance": [],
      "collapsed_sections": [],
      "authorship_tag": "ABX9TyOfXWSvcVojd4ztN9cWdXGy",
      "include_colab_link": true
    },
    "kernelspec": {
      "name": "python3",
      "display_name": "Python 3"
    },
    "language_info": {
      "name": "python"
    }
  },
  "cells": [
    {
      "cell_type": "markdown",
      "metadata": {
        "id": "view-in-github",
        "colab_type": "text"
      },
      "source": [
        "<a href=\"https://colab.research.google.com/github/kimgyubeom1/test1/blob/main/1~3%ED%95%A9.ipynb\" target=\"_parent\"><img src=\"https://colab.research.google.com/assets/colab-badge.svg\" alt=\"Open In Colab\"/></a>"
      ]
    },
    {
      "cell_type": "code",
      "execution_count": 1,
      "metadata": {
        "colab": {
          "base_uri": "https://localhost:8080/"
        },
        "id": "BxnJ_puWOiw3",
        "outputId": "9e527ef5-a87b-44f4-9fd8-80fbbbb5099e"
      },
      "outputs": [
        {
          "output_type": "stream",
          "name": "stdout",
          "text": [
            "마지막 수:3\n",
            "1부터 3까지의 합은 6입니다.\n"
          ]
        }
      ],
      "source": [
        "n = int(input('마지막 수:'))\n",
        "sum, i = 0, 1\n",
        "\n",
        "while i<=n:\n",
        "  sum = sum+i\n",
        "  i=i+1\n",
        "\n",
        "print(f'1부터 {n}까지의 합은 {sum}입니다.')"
      ]
    }
  ]
}